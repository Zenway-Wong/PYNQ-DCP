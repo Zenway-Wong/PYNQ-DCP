{
 "cells": [
  {
   "cell_type": "markdown",
   "metadata": {},
   "source": [
    "# Interactive haze removal for HDMI video stream\n",
    "----\n",
    "\n",
    "<div class=\"alert alert-box alert-info\">\n",
    "Please use Jupyter labs http://&lt;board_ip_address&gt;/lab for this notebook.\n",
    "</div>\n",
    "\n",
    "## Download the overlay"
   ]
  },
  {
   "cell_type": "code",
   "execution_count": 21,
   "metadata": {},
   "outputs": [],
   "source": [
    "from pynq.overlays.base import BaseOverlay\n",
    "\n",
    "base = BaseOverlay(\"base.bit\")\n",
    "hdmi_in = base.video.hdmi_in\n",
    "hdmi_out = base.video.hdmi_out"
   ]
  },
  {
   "cell_type": "markdown",
   "metadata": {},
   "source": [
    "## Define Algorhms used by simplified DCP"
   ]
  },
  {
   "cell_type": "code",
   "execution_count": 22,
   "metadata": {},
   "outputs": [],
   "source": [
    "import numpy as np\n",
    "\n",
    "def get_radiance(image,atmosphere,transmition):\n",
    "    radiance = np.true_divide(image-atmosphere,np.tile(transmition.reshape([image.shape[0],image.shape[1],1]),(1,1,3)))+atmosphere\n",
    "    radiance[radiance>255] = 255\n",
    "    radiance[radiance<0] = 0\n",
    "    return radiance\n",
    "\n",
    "def dehaze_fast(image,a=0.15):\n",
    "    dark_channel = np.min(image,2)\n",
    "    atmosphere = (1-a)*image[np.where(dark_channel == np.max(dark_channel))][0]\n",
    "#     atmosphere = 225*np.array([1,1,1])\n",
    "    transmition = 1 - dark_channel/255\n",
    "    transmition[transmition<a] = a\n",
    "    radiance = get_radiance(image,atmosphere,transmition)\n",
    "    return np.uint8(radiance)"
   ]
  },
  {
   "cell_type": "markdown",
   "metadata": {},
   "source": [
    "## Start HDMI streaming\n",
    "please check your connection"
   ]
  },
  {
   "cell_type": "code",
   "execution_count": 23,
   "metadata": {},
   "outputs": [
    {
     "data": {
      "text/plain": [
       "<contextlib._GeneratorContextManager at 0xa2d0ac50>"
      ]
     },
     "execution_count": 23,
     "metadata": {},
     "output_type": "execute_result"
    }
   ],
   "source": [
    "hdmi_in.configure()\n",
    "hdmi_out.configure(hdmi_in.mode)\n",
    "\n",
    "hdmi_in.start()\n",
    "hdmi_out.start()"
   ]
  },
  {
   "cell_type": "code",
   "execution_count": 24,
   "metadata": {},
   "outputs": [],
   "source": [
    "hdmi_in.tie(hdmi_out)"
   ]
  },
  {
   "cell_type": "markdown",
   "metadata": {},
   "source": [
    "# Process video\n",
    "the input frame is resized to 180P to meet the real-time requirement"
   ]
  },
  {
   "cell_type": "code",
   "execution_count": 25,
   "metadata": {},
   "outputs": [],
   "source": [
    "from ipywidgets import interact, FloatSlider\n",
    "import threading\n",
    "import time\n",
    "import cv2\n",
    "\n",
    "a = 0.15\n",
    "a_slide = FloatSlider(min=0, max=1, step=0.01, value=0.15, description='a')\n",
    "outframe = hdmi_out.newframe()\n",
    "\n",
    "def adjust(a_slide):\n",
    "    global a\n",
    "    a = a_slide\n",
    "    \n",
    "class Thread_interact (threading.Thread):\n",
    "    def __init__(self):\n",
    "        threading.Thread.__init__(self)\n",
    "    def run(self):\n",
    "        interact(adjust, a_slide=a_slide);\n",
    "        while(1):\n",
    "            time.sleep(0.1)\n",
    "            \n",
    "def play():\n",
    "    inframe = hdmi_in.readframe()\n",
    "    inframe_resize = cv2.resize(inframe,(320,180))\n",
    "    result = dehaze_fast(inframe_resize, a)\n",
    "    result = cv2.resize(result,(1920,1080))\n",
    "    np.copyto(outframe,result)\n",
    "    hdmi_out.writeframe(outframe)\n",
    "            \n",
    "class Thread_play (threading.Thread):\n",
    "    def __init__(self):\n",
    "        threading.Thread.__init__(self)\n",
    "    def run(self):\n",
    "        while(1):\n",
    "            play()\n",
    "            time.sleep(0.01)"
   ]
  },
  {
   "cell_type": "code",
   "execution_count": 26,
   "metadata": {},
   "outputs": [
    {
     "data": {
      "application/vnd.jupyter.widget-view+json": {
       "model_id": "d9a0caa12f524edb967f3630d3909b86",
       "version_major": 2,
       "version_minor": 0
      },
      "text/plain": [
       "interactive(children=(FloatSlider(value=0.15, description='a', max=1.0, step=0.01), Output()), _dom_classes=('…"
      ]
     },
     "metadata": {},
     "output_type": "display_data"
    }
   ],
   "source": [
    "Thread_1 = Thread_interact()\n",
    "Thread_2 = Thread_play()\n",
    "Thread_1.start()\n",
    "Thread_2.start()"
   ]
  },
  {
   "cell_type": "markdown",
   "metadata": {},
   "source": [
    "<div class=\"alert alert-box alert-info\">\n",
    "Please directly use following code to stop threads, and restart from loading overlay\n",
    "</div>\n",
    "\n",
    "<div class=\"alert alert-heading alert-danger\">\n",
    "    <h4 class=\"alert-heading\">Warning:</h4>\n",
    "\n",
    "Failure to stop the HDMI Video may hang the board \n",
    "when trying to download another bitstream onto the FPGA\n",
    "</div>"
   ]
  },
  {
   "cell_type": "code",
   "execution_count": 27,
   "metadata": {},
   "outputs": [
    {
     "name": "stderr",
     "output_type": "stream",
     "text": [
      "Exception in thread Thread-10:\n",
      "Traceback (most recent call last):\n",
      "  File \"/usr/lib/python3.6/threading.py\", line 916, in _bootstrap_inner\n",
      "    self.run()\n",
      "  File \"<ipython-input-25-6c980857a2b0>\", line 35, in run\n",
      "    play()\n",
      "  File \"<ipython-input-25-6c980857a2b0>\", line 28, in play\n",
      "    hdmi_out.writeframe(outframe)\n",
      "  File \"/usr/local/lib/python3.6/dist-packages/pynq/lib/video/hierarchies.py\", line 391, in writeframe\n",
      "    self._vdma.writechannel.writeframe(frame)\n",
      "  File \"/usr/local/lib/python3.6/dist-packages/pynq/lib/video/dma.py\", line 454, in writeframe\n",
      "    raise RuntimeError('DMA channel not started')\n",
      "RuntimeError: DMA channel not started\n",
      "\n"
     ]
    }
   ],
   "source": [
    "hdmi_out.close()\n",
    "hdmi_in.close()"
   ]
  }
 ],
 "metadata": {
  "kernelspec": {
   "display_name": "Python 3",
   "language": "python",
   "name": "python3"
  },
  "language_info": {
   "codemirror_mode": {
    "name": "ipython",
    "version": 3
   },
   "file_extension": ".py",
   "mimetype": "text/x-python",
   "name": "python",
   "nbconvert_exporter": "python",
   "pygments_lexer": "ipython3",
   "version": "3.6.5"
  }
 },
 "nbformat": 4,
 "nbformat_minor": 4
}
