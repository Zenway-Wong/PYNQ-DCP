{
 "cells": [
  {
   "cell_type": "code",
   "execution_count": 1,
   "metadata": {},
   "outputs": [
    {
     "data": {
      "application/javascript": [
       "\n",
       "try {\n",
       "require(['notebook/js/codecell'], function(codecell) {\n",
       "  codecell.CodeCell.options_default.highlight_modes[\n",
       "      'magic_text/x-csrc'] = {'reg':[/^%%microblaze/]};\n",
       "  Jupyter.notebook.events.one('kernel_ready.Kernel', function(){\n",
       "      Jupyter.notebook.get_cells().map(function(cell){\n",
       "          if (cell.cell_type == 'code'){ cell.auto_highlight(); } }) ;\n",
       "  });\n",
       "});\n",
       "} catch (e) {};\n"
      ]
     },
     "metadata": {},
     "output_type": "display_data"
    },
    {
     "data": {
      "application/javascript": [
       "\n",
       "try {\n",
       "require(['notebook/js/codecell'], function(codecell) {\n",
       "  codecell.CodeCell.options_default.highlight_modes[\n",
       "      'magic_text/x-csrc'] = {'reg':[/^%%pybind11/]};\n",
       "  Jupyter.notebook.events.one('kernel_ready.Kernel', function(){\n",
       "      Jupyter.notebook.get_cells().map(function(cell){\n",
       "          if (cell.cell_type == 'code'){ cell.auto_highlight(); } }) ;\n",
       "  });\n",
       "});\n",
       "} catch (e) {};\n"
      ]
     },
     "metadata": {},
     "output_type": "display_data"
    }
   ],
   "source": [
    "from composable_pipeline import ComposableOverlay\n",
    "\n",
    "ol = ComposableOverlay(\"./overlay/cv_dfx_4_pr.bit\")\n",
    "cpipe = ol.composable"
   ]
  },
  {
   "cell_type": "code",
   "execution_count": 2,
   "metadata": {},
   "outputs": [
    {
     "data": {
      "application/json": {
       "video/composable/colorthresholding_accel [loaded]": {
        "ci": [
         14
        ],
        "dfx": false,
        "loaded": true,
        "modtype": "colorthresholding_accel",
        "pi": [
         14
        ]
       },
       "video/composable/filter2d_accel [loaded]": {
        "ci": [
         5
        ],
        "dfx": false,
        "loaded": true,
        "modtype": "filter2d_accel",
        "pi": [
         5
        ]
       },
       "video/composable/gray2rgb_accel [loaded]": {
        "ci": [
         3
        ],
        "dfx": false,
        "loaded": true,
        "modtype": "gray2rgb_accel",
        "pi": [
         3
        ]
       },
       "video/composable/lut_accel [loaded]": {
        "ci": [
         13
        ],
        "dfx": false,
        "loaded": true,
        "modtype": "LUT_accel",
        "pi": [
         13
        ]
       },
       "video/composable/rgb2gray_accel [loaded]": {
        "ci": [
         2
        ],
        "dfx": false,
        "loaded": true,
        "modtype": "rgb2gray_accel",
        "pi": [
         2
        ]
       },
       "video/composable/rgb2hsv_accel [loaded]": {
        "ci": [
         4
        ],
        "dfx": false,
        "loaded": true,
        "modtype": "rgb2hsv_accel",
        "pi": [
         4
        ]
       },
       "video/hdmi_in/color_convert [loaded]": {
        "ci": [
         0
        ],
        "dfx": false,
        "loaded": true,
        "modtype": "color_convert"
       },
       "video/hdmi_in/pixel_pack [loaded]": {
        "dfx": false,
        "loaded": true,
        "modtype": "pixel_pack",
        "pi": [
         0
        ]
       },
       "video/hdmi_out/color_convert [loaded]": {
        "dfx": false,
        "loaded": true,
        "modtype": "color_convert",
        "pi": [
         1
        ]
       },
       "video/hdmi_out/pixel_unpack [loaded]": {
        "ci": [
         1
        ],
        "dfx": false,
        "loaded": true,
        "modtype": "pixel_unpack"
       }
      },
      "text/plain": [
       "{'video/composable/colorthresholding_accel': {'ci': [14],\n",
       "  'dfx': False,\n",
       "  'loaded': True,\n",
       "  'modtype': 'colorthresholding_accel',\n",
       "  'pi': [14]},\n",
       " 'video/composable/filter2d_accel': {'ci': [5],\n",
       "  'dfx': False,\n",
       "  'loaded': True,\n",
       "  'modtype': 'filter2d_accel',\n",
       "  'pi': [5]},\n",
       " 'video/composable/gray2rgb_accel': {'ci': [3],\n",
       "  'dfx': False,\n",
       "  'loaded': True,\n",
       "  'modtype': 'gray2rgb_accel',\n",
       "  'pi': [3]},\n",
       " 'video/composable/lut_accel': {'ci': [13],\n",
       "  'dfx': False,\n",
       "  'loaded': True,\n",
       "  'modtype': 'LUT_accel',\n",
       "  'pi': [13]},\n",
       " 'video/composable/rgb2gray_accel': {'ci': [2],\n",
       "  'dfx': False,\n",
       "  'loaded': True,\n",
       "  'modtype': 'rgb2gray_accel',\n",
       "  'pi': [2]},\n",
       " 'video/composable/rgb2hsv_accel': {'ci': [4],\n",
       "  'dfx': False,\n",
       "  'loaded': True,\n",
       "  'modtype': 'rgb2hsv_accel',\n",
       "  'pi': [4]},\n",
       " 'video/hdmi_in/color_convert': {'ci': [0],\n",
       "  'dfx': False,\n",
       "  'loaded': True,\n",
       "  'modtype': 'color_convert'},\n",
       " 'video/hdmi_in/pixel_pack': {'dfx': False,\n",
       "  'loaded': True,\n",
       "  'modtype': 'pixel_pack',\n",
       "  'pi': [0]},\n",
       " 'video/hdmi_out/color_convert': {'dfx': False,\n",
       "  'loaded': True,\n",
       "  'modtype': 'color_convert',\n",
       "  'pi': [1]},\n",
       " 'video/hdmi_out/pixel_unpack': {'ci': [1],\n",
       "  'dfx': False,\n",
       "  'loaded': True,\n",
       "  'modtype': 'pixel_unpack'}}"
      ]
     },
     "execution_count": 2,
     "metadata": {
      "application/json": {
       "expanded": false,
       "root": "composable"
      }
     },
     "output_type": "execute_result"
    }
   ],
   "source": [
    "cpipe.c_dict.loaded"
   ]
  },
  {
   "cell_type": "code",
   "execution_count": 3,
   "metadata": {},
   "outputs": [],
   "source": [
    "hdmi_in = ol.video.hdmi_in\n",
    "hdmi_out = ol.video.hdmi_out\n",
    "\n",
    "hdmi_in.configure()\n",
    "hdmi_out.configure(hdmi_in.mode)\n",
    "\n",
    "hdmi_in.start()\n",
    "hdmi_out.start()"
   ]
  },
  {
   "cell_type": "code",
   "execution_count": 15,
   "metadata": {},
   "outputs": [],
   "source": [
    "hdmi_in.tie(hdmi_out)"
   ]
  },
  {
   "cell_type": "code",
   "execution_count": 6,
   "metadata": {},
   "outputs": [],
   "source": [
    "video_in_in = cpipe.video.hdmi_in.color_convert\n",
    "video_in_out = cpipe.video.hdmi_in.pixel_pack\n",
    "video_out_in = cpipe.video.hdmi_out.pixel_unpack\n",
    "video_out_out =  cpipe.video.hdmi_out.color_convert\n",
    "\n",
    "rgb2gray = cpipe.video.composable.rgb2gray_accel\n",
    "gray2rgb = cpipe.video.composable.gray2rgb_accel\n",
    "\n",
    "def set_res(ip, cols, rows):\n",
    "    ip.cols = cols\n",
    "    ip.rows = rows\n",
    "\n",
    "cols = 1920\n",
    "rows = 1080\n",
    "set_res(rgb2gray, cols, rows)\n",
    "set_res(gray2rgb, cols, rows)\n",
    "# set_res(fast, cols, rows)\n",
    "# set_res(harr, cols, rows)"
   ]
  },
  {
   "cell_type": "markdown",
   "metadata": {},
   "source": [
    "<div class=\"alert alert-heading alert-danger\">\n",
    "    <h4 class=\"alert-heading\">Problem:</h4>\n",
    "Among following 4 pipeline, only the second one works!!!\n",
    "</div>\n",
    "\n",
    "Try the left three, it's interesting to gueses the internal logic"
   ]
  },
  {
   "cell_type": "code",
   "execution_count": 25,
   "metadata": {},
   "outputs": [
    {
     "data": {
      "image/svg+xml": [
       "<?xml version=\"1.0\" encoding=\"UTF-8\" standalone=\"no\"?>\n",
       "<!DOCTYPE svg PUBLIC \"-//W3C//DTD SVG 1.1//EN\"\n",
       " \"http://www.w3.org/Graphics/SVG/1.1/DTD/svg11.dtd\">\n",
       "<!-- Generated by graphviz version 2.40.1 (20161225.0304)\n",
       " -->\n",
       "<!-- Title: %5046088 Pages: 1 -->\n",
       "<svg width=\"267pt\" height=\"44pt\"\n",
       " viewBox=\"0.00 0.00 267.00 44.00\" xmlns=\"http://www.w3.org/2000/svg\" xmlns:xlink=\"http://www.w3.org/1999/xlink\">\n",
       "<g id=\"graph0\" class=\"graph\" transform=\"scale(1 1) rotate(0) translate(4 40)\">\n",
       "<title>%5046088</title>\n",
       "<polygon fill=\"#ffffff\" stroke=\"transparent\" points=\"-4,4 -4,-40 263,-40 263,4 -4,4\"/>\n",
       "<!-- color_convert -->\n",
       "<g id=\"node1\" class=\"node\">\n",
       "<title>color_convert</title>\n",
       "<polygon fill=\"none\" stroke=\"#000000\" points=\"92,-36 0,-36 0,0 92,0 92,-36\"/>\n",
       "<text text-anchor=\"middle\" x=\"46\" y=\"-14.3\" font-family=\"Times,serif\" font-size=\"14.00\" fill=\"#000000\">color_convert</text>\n",
       "</g>\n",
       "<!-- pixel_pack -->\n",
       "<g id=\"node2\" class=\"node\">\n",
       "<title>pixel_pack</title>\n",
       "<polygon fill=\"none\" stroke=\"#000000\" points=\"259,-36 183,-36 183,0 259,0 259,-36\"/>\n",
       "<text text-anchor=\"middle\" x=\"221\" y=\"-14.3\" font-family=\"Times,serif\" font-size=\"14.00\" fill=\"#000000\">pixel_pack</text>\n",
       "</g>\n",
       "<!-- color_convert&#45;&gt;pixel_pack -->\n",
       "<g id=\"edge1\" class=\"edge\">\n",
       "<title>color_convert&#45;&gt;pixel_pack</title>\n",
       "<path fill=\"none\" stroke=\"#00ff00\" d=\"M92.4373,-18C117.2676,-18 147.8032,-18 172.8837,-18\"/>\n",
       "<polygon fill=\"#00ff00\" stroke=\"#00ff00\" points=\"172.9105,-21.5001 182.9105,-18 172.9104,-14.5001 172.9105,-21.5001\"/>\n",
       "<text text-anchor=\"start\" x=\"110\" y=\"-21.8\" font-family=\"Times,serif\" font-size=\"14.00\" fill=\"#ffffff\">ci=0 pi=0</text>\n",
       "</g>\n",
       "</g>\n",
       "</svg>\n"
      ],
      "text/plain": [
       "<graphviz.dot.Digraph at 0xa67cddb0>"
      ]
     },
     "execution_count": 25,
     "metadata": {},
     "output_type": "execute_result"
    }
   ],
   "source": [
    "# video_pipeline = [video_out_in, video_out_out]\n",
    "video_pipeline = [video_in_in, video_in_out]\n",
    "# video_pipeline = [video_in_in, video_out_out]\n",
    "# video_pipeline = [video_out_in, video_in_out]\n",
    "\n",
    "cpipe.compose(video_pipeline)\n",
    "\n",
    "cpipe.graph"
   ]
  },
  {
   "cell_type": "code",
   "execution_count": 8,
   "metadata": {},
   "outputs": [
    {
     "name": "stdout",
     "output_type": "stream",
     "text": [
      "Frames per second:  34.66693412987116\n"
     ]
    }
   ],
   "source": [
    "import time\n",
    "\n",
    "numframes = 600\n",
    "start = time.time()\n",
    "\n",
    "for _ in range(numframes):\n",
    "    f = hdmi_in.readframe()\n",
    "    hdmi_out.writeframe(f)\n",
    "    \n",
    "end = time.time()\n",
    "print(\"Frames per second:  \" + str(numframes / (end - start)))"
   ]
  },
  {
   "cell_type": "code",
   "execution_count": 26,
   "metadata": {},
   "outputs": [],
   "source": [
    "hdmi_out.close()\n",
    "hdmi_in.close()"
   ]
  }
 ],
 "metadata": {
  "kernelspec": {
   "display_name": "Python 3",
   "language": "python",
   "name": "python3"
  },
  "language_info": {
   "codemirror_mode": {
    "name": "ipython",
    "version": 3
   },
   "file_extension": ".py",
   "mimetype": "text/x-python",
   "name": "python",
   "nbconvert_exporter": "python",
   "pygments_lexer": "ipython3",
   "version": "3.6.5"
  }
 },
 "nbformat": 4,
 "nbformat_minor": 4
}
